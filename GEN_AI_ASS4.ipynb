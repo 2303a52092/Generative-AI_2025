{
  "nbformat": 4,
  "nbformat_minor": 0,
  "metadata": {
    "colab": {
      "provenance": [],
      "include_colab_link": true
    },
    "kernelspec": {
      "name": "python3",
      "display_name": "Python 3"
    },
    "language_info": {
      "name": "python"
    }
  },
  "cells": [
    {
      "cell_type": "markdown",
      "metadata": {
        "id": "view-in-github",
        "colab_type": "text"
      },
      "source": [
        "<a href=\"https://colab.research.google.com/github/2303a52092/Generative-AI_2025/blob/main/GEN_AI_ASS4.ipynb\" target=\"_parent\"><img src=\"https://colab.research.google.com/assets/colab-badge.svg\" alt=\"Open In Colab\"/></a>"
      ]
    },
    {
      "cell_type": "markdown",
      "source": [
        "1. (1 ponto) Design a simple ANN architecture with one input and one output layer (no hidden\n",
        "layer). Assume a linear activation function in the output layer."
      ],
      "metadata": {
        "id": "FTjBIvrZnCZr"
      }
    },
    {
      "cell_type": "code",
      "execution_count": 1,
      "metadata": {
        "id": "qunszhJjlfhu"
      },
      "outputs": [],
      "source": [
        "import numpy as np"
      ]
    },
    {
      "cell_type": "code",
      "source": [
        "X_train = np.array([[0.1, 0.2, 0.3], [0.2, 0.3, 0.4], [0.3, 0.4, 0.5], [0.5, 0.6, 0.7],\n",
        "                   [0.1, 0.3, 0.5], [0.2, 0.4, 0.6], [0.3, 0.5, 0.7], [0.4, 0.6, 0.8],\n",
        "                   [0.5, 0.7, 0.1]])\n",
        "y_train = np.array([0.14, 0.20, 0.26, 0.38, 0.22, 0.28, 0.34, 0.40, 0.22])\n"
      ],
      "metadata": {
        "id": "Xmr41TIWm0Ut"
      },
      "execution_count": 2,
      "outputs": []
    },
    {
      "cell_type": "code",
      "source": [
        "W = np.random.rand(3)\n",
        "b = np.random.rand(1)"
      ],
      "metadata": {
        "id": "oWyYaq2Km3Fh"
      },
      "execution_count": 3,
      "outputs": []
    },
    {
      "cell_type": "code",
      "source": [
        "learning_rate = 0.01\n",
        "epochs = 1000"
      ],
      "metadata": {
        "id": "Mviqu1C4m_6k"
      },
      "execution_count": 4,
      "outputs": []
    },
    {
      "cell_type": "code",
      "source": [
        "for epoch in range(epochs):\n",
        "    for i in range(len(X_train)):\n",
        "\n",
        "        y_pred = np.dot(X_train[i], W) + b\n",
        "        error = y_train[i] - y_pred\n",
        "\n",
        "        W = W + learning_rate * error * X_train[i]\n",
        "        b = b + learning_rate * error"
      ],
      "metadata": {
        "id": "ANozoxYunbqj"
      },
      "execution_count": 5,
      "outputs": []
    },
    {
      "cell_type": "code",
      "source": [
        "X_test = np.array([[0.6, 0.7, 0.8], [0.7, 0.8, 0.9]])\n",
        "y_test = np.array([0.44, 0.50])\n"
      ],
      "metadata": {
        "id": "8zuAoKUoo8DC"
      },
      "execution_count": 6,
      "outputs": []
    },
    {
      "cell_type": "code",
      "source": [
        "y_pred_test = np.dot(X_test, W) + b\n",
        "\n",
        "mse_train = np.mean((y_train - (np.dot(X_train, W) + b))**2)\n",
        "mse_test = np.mean((y_test - y_pred_test)**2)\n"
      ],
      "metadata": {
        "id": "cpTtzyeXpwVt"
      },
      "execution_count": 7,
      "outputs": []
    },
    {
      "cell_type": "code",
      "source": [
        "print(\"Mean Square Error (Training):\", mse_train)\n",
        "print(\"Mean Square Error (Test):\", mse_test)"
      ],
      "metadata": {
        "colab": {
          "base_uri": "https://localhost:8080/"
        },
        "id": "BRWg8BiNp3YH",
        "outputId": "037b0556-b945-4c3d-b20f-d2a185e603cf"
      },
      "execution_count": 8,
      "outputs": [
        {
          "output_type": "stream",
          "name": "stdout",
          "text": [
            "Mean Square Error (Training): 0.00028760265002182237\n",
            "Mean Square Error (Test): 0.0013070832697274516\n"
          ]
        }
      ]
    },
    {
      "cell_type": "code",
      "source": [
        "x1 = float(input(\"Enter x1: \"))\n",
        "x2 = float(input(\"Enter x2: \"))\n",
        "x3 = float(input(\"Enter x3: \"))"
      ],
      "metadata": {
        "colab": {
          "base_uri": "https://localhost:8080/"
        },
        "id": "-LxqrrXfp9Yb",
        "outputId": "f7712799-0e09-41f5-aa40-07917fec4337"
      },
      "execution_count": 9,
      "outputs": [
        {
          "name": "stdout",
          "output_type": "stream",
          "text": [
            "Enter x1: 0.1\n",
            "Enter x2: 0.2\n",
            "Enter x3: 0.3\n"
          ]
        }
      ]
    },
    {
      "cell_type": "code",
      "source": [
        "user_input = np.array([x1, x2, x3])\n",
        "predicted_output = np.dot(user_input, W) + b"
      ],
      "metadata": {
        "id": "pS_xSwgjp_1_"
      },
      "execution_count": 10,
      "outputs": []
    },
    {
      "cell_type": "code",
      "source": [
        "print(\"Predicted Output:\", predicted_output)"
      ],
      "metadata": {
        "colab": {
          "base_uri": "https://localhost:8080/"
        },
        "id": "hv867mTFqChE",
        "outputId": "bd3babc8-d50f-4109-b6fb-d8325122d2f2"
      },
      "execution_count": 11,
      "outputs": [
        {
          "output_type": "stream",
          "name": "stdout",
          "text": [
            "Predicted Output: [0.14974847]\n"
          ]
        }
      ]
    },
    {
      "cell_type": "markdown",
      "source": [
        "2. (1 ponto) Design a simple ANN architecture with one input and one output layer (no hidden layer). Assume a sigmoid activation function shown in the equation 1 in the output layer."
      ],
      "metadata": {
        "id": "N0ETMDTbrd8X"
      }
    },
    {
      "cell_type": "code",
      "source": [
        "import numpy as np\n"
      ],
      "metadata": {
        "id": "di7ahknZrmNA"
      },
      "execution_count": 12,
      "outputs": []
    },
    {
      "cell_type": "code",
      "source": [
        "def sigmoid(x):\n",
        "  return 1 / (1 + np.exp(-x))"
      ],
      "metadata": {
        "id": "X81chPvfrqGL"
      },
      "execution_count": 13,
      "outputs": []
    },
    {
      "cell_type": "code",
      "source": [
        "def sigmoid_derivative(x):\n",
        "  return x * (1 - x)"
      ],
      "metadata": {
        "id": "s89DJSPNrsbZ"
      },
      "execution_count": 14,
      "outputs": []
    },
    {
      "cell_type": "code",
      "source": [
        "X_train = np.array([[0.1, 0.2, 0.3], [0.2, 0.3, 0.4], [0.3, 0.4, 0.5], [0.5, 0.6, 0.7],\n",
        "                   [0.1, 0.3, 0.5], [0.2, 0.4, 0.6], [0.3, 0.5, 0.7], [0.4, 0.6, 0.8],\n",
        "                   [0.5, 0.7, 0.1]])\n",
        "y_train = np.array([0.5349, 0.5498, 0.5646, 0.5939, 0.5548, 0.5695, 0.5842, 0.5987, 0.5548])\n"
      ],
      "metadata": {
        "id": "g2eW1Xisruqt"
      },
      "execution_count": 15,
      "outputs": []
    },
    {
      "cell_type": "code",
      "source": [
        "X_test = np.array([[0.6, 0.7, 0.8], [0.7, 0.8, 0.9]])\n",
        "y_test = np.array([0.6083, 0.6225])"
      ],
      "metadata": {
        "id": "KroJahHHrw8g"
      },
      "execution_count": 16,
      "outputs": []
    },
    {
      "cell_type": "code",
      "source": [
        "W = np.random.rand(3)\n",
        "b = np.random.rand(1)"
      ],
      "metadata": {
        "id": "x19DaDroryt1"
      },
      "execution_count": 17,
      "outputs": []
    },
    {
      "cell_type": "code",
      "source": [
        "learning_rate = 0.1\n",
        "epochs = 1000"
      ],
      "metadata": {
        "id": "3tCXZWHir1Xy"
      },
      "execution_count": 18,
      "outputs": []
    },
    {
      "cell_type": "code",
      "source": [
        "z = np.dot(X_train[i], W) + b\n",
        "y_pred = sigmoid(z)"
      ],
      "metadata": {
        "id": "FCEjunBYr3WJ"
      },
      "execution_count": null,
      "outputs": []
    },
    {
      "cell_type": "code",
      "source": [
        " error = y_train[i] - y_pred"
      ],
      "metadata": {
        "id": "yTHC9_7Gr8_Q"
      },
      "execution_count": 19,
      "outputs": []
    },
    {
      "cell_type": "code",
      "source": [
        "d_output = error * sigmoid_derivative(y_pred)\n",
        "d_hidden = d_output * W"
      ],
      "metadata": {
        "id": "8U7mXyQJr_Yu"
      },
      "execution_count": 20,
      "outputs": []
    },
    {
      "cell_type": "code",
      "source": [
        "W += learning_rate * d_output * X_train[i]\n",
        "b += learning_rate * d_output"
      ],
      "metadata": {
        "id": "1hJv_nMtsDlh"
      },
      "execution_count": 21,
      "outputs": []
    },
    {
      "cell_type": "code",
      "source": [
        "mse_train = np.mean((y_train - sigmoid(np.dot(X_train, W) + b))**2)\n",
        "mse_test = np.mean((y_test - sigmoid(np.dot(X_test, W) + b))**2)\n",
        "\n",
        "print(\"Mean Square Error (Training):\", mse_train)\n",
        "print(\"Mean Square Error (Test):\", mse_test)"
      ],
      "metadata": {
        "colab": {
          "base_uri": "https://localhost:8080/"
        },
        "id": "MAkyaeF8sH4Q",
        "outputId": "53bbc147-8d0d-4ee2-db8c-1dabc072e6fe"
      },
      "execution_count": 22,
      "outputs": [
        {
          "output_type": "stream",
          "name": "stdout",
          "text": [
            "Mean Square Error (Training): 0.010977436707041837\n",
            "Mean Square Error (Test): 0.025514698834677944\n"
          ]
        }
      ]
    },
    {
      "cell_type": "code",
      "source": [
        "0x1 = float(input(\"Enter x1: \"))\n",
        "x2 = float(input(\"Enter x2: \"))\n",
        "x3 = float(input(\"Enter x3: \"))"
      ],
      "metadata": {
        "colab": {
          "base_uri": "https://localhost:8080/"
        },
        "id": "p1t7SHLNsKvP",
        "outputId": "6e7dfddb-96c5-47d2-d4d8-30c32687ee4a"
      },
      "execution_count": 23,
      "outputs": [
        {
          "name": "stdout",
          "output_type": "stream",
          "text": [
            "Enter x1: 0.1\n",
            "Enter x2: .2\n",
            "Enter x3: 0.3\n"
          ]
        }
      ]
    },
    {
      "cell_type": "code",
      "source": [
        "user_input = np.array([x1, x2, x3])\n",
        "predicted_output = sigmoid(np.dot(user_input, W) + b)"
      ],
      "metadata": {
        "id": "NkSQ0wi-sWYH"
      },
      "execution_count": 24,
      "outputs": []
    },
    {
      "cell_type": "code",
      "source": [
        "print(\"Predicted Output:\", predicted_output)"
      ],
      "metadata": {
        "colab": {
          "base_uri": "https://localhost:8080/"
        },
        "id": "x_tAMbDjsYCq",
        "outputId": "c713d18f-62e8-4394-c0a2-9136ba2040b3"
      },
      "execution_count": 25,
      "outputs": [
        {
          "output_type": "stream",
          "name": "stdout",
          "text": [
            "Predicted Output: [0.59850865]\n"
          ]
        }
      ]
    }
  ]
}